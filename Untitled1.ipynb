{
 "cells": [
  {
   "cell_type": "code",
   "execution_count": 2,
   "metadata": {},
   "outputs": [
    {
     "name": "stderr",
     "output_type": "stream",
     "text": [
      "/home/user/main_project/lib/python3.7/site-packages/scipy/io/wavfile.py:273: WavFileWarning: Chunk (non-data) not understood, skipping it.\n",
      "  WavFileWarning)\n"
     ]
    },
    {
     "name": "stdout",
     "output_type": "stream",
     "text": [
      "rate :  48000\n",
      "step :  9600\n",
      "[25.0, 205.00000000000003, 90.0]\n",
      "[25.0, 205.00000000000003, 90.0]\n",
      "median 90.0\n",
      "mode 25.0\n",
      "std 74.4237118725537\n",
      "low 25.0\n",
      "peak 205.00000000000003\n",
      "q75 0.24984872932634128\n",
      "q25 -0.25005042355788626\n",
      "iqr 0.49989915288422754\n",
      "58\n"
     ]
    }
   ],
   "source": [
    "import matplotlib.pyplot as plt\n",
    "from scipy.io import wavfile as wav\n",
    "from scipy.fftpack import fft\n",
    "import numpy as np\n",
    "import pandas as pd\n",
    "import re\n",
    "import scipy.stats as stats\n",
    "import scipy.io.wavfile\n",
    "import numpy as np\n",
    "import os\n",
    "import tkinter as tk\n",
    "import soundfile as sf\n",
    "from tkinter import *\n",
    "from tkinter import filedialog\n",
    "import librosa\n",
    "\n",
    "##rate,data=librosa.load('/home/user/main_project/raw/audio/03-01-02-01-01-01-13.wav')\n",
    "\n",
    "rate,data=scipy.io.wavfile.read('/home/user/main_project/raw/audio/03-01-02-01-01-01-13.wav')\n",
    "    #rate,data=wavfile.read('/home/user/test/b0476.wav')\n",
    "    #get dominating frequencies in sliding windows of 200ms\n",
    "    \n",
    "print(\"rate : \",rate)\n",
    "step = rate//5 #3200 sampling points every 1/5 sec \n",
    "print(\"step : \",step)\n",
    "window_frequencies = []\n",
    "for i in range(0,len(data),step):\n",
    "    ft = np.fft.fft(data[i:i+step])\n",
    "    freqs = np.fft.fftfreq(len(ft)) #fftq tells you the frequencies associated with the coefficients\n",
    "    imax = np.argmax(np.abs(ft))\n",
    "    freq = freqs[imax]\n",
    "    freq_in_hz = abs(freq *rate)\n",
    "    window_frequencies.append(freq_in_hz)\n",
    "    filtered_frequencies = [f for f in window_frequencies if 20<f<300 and not 46<f<66] \n",
    "print(filtered_frequencies)\n",
    "print(filtered_frequencies)\n",
    "nobs, minmax, mean, variance, skew, kurtosis = stats.describe(filtered_frequencies)\n",
    "median    = np.median(filtered_frequencies)\n",
    "mode      = stats.mode(filtered_frequencies).mode[0]\n",
    "std       = np.std(filtered_frequencies)\n",
    "low,peak  = minmax\n",
    "q75,q25   = np.percentile(freqs, [75 ,25])\n",
    "iqr       = q75 - q25\n",
    "    \n",
    "print(\"median\",median)\n",
    "print(\"mode\",mode)\n",
    "print(\"std\",std)\n",
    "print(\"low\",low)\n",
    "print(\"peak\",peak)\n",
    "print(\"q75\",q75)\n",
    "print(\"q25\",q25)\n",
    "print(\"iqr\",iqr)\n",
    "  \n",
    "    \n",
    "    \n",
    "raw_folder = '/home/user/main_project/'\n",
    "\n",
    "samples = os.listdir(raw_folder)\n",
    "n_samples = len(samples)\n",
    "print(n_samples)\n",
    "\n",
    "\n",
    "\n",
    "\n"
   ]
  },
  {
   "cell_type": "code",
   "execution_count": 4,
   "metadata": {},
   "outputs": [],
   "source": [
    "columns=['nobs', 'mean', 'skew', 'kurtosis', 'median', 'mode', 'std', 'low', 'peak', 'q25', 'q75', 'iqr']\n",
    "\n",
    "myData = pd.DataFrame(columns=columns)"
   ]
  },
  {
   "cell_type": "code",
   "execution_count": null,
   "metadata": {},
   "outputs": [],
   "source": [
    "\n",
    "            \n",
    "            \n",
    "            \n",
    "            \n",
    "            \n",
    "            "
   ]
  },
  {
   "cell_type": "code",
   "execution_count": 11,
   "metadata": {},
   "outputs": [
    {
     "data": {
      "text/plain": [
       "[]"
      ]
     },
     "execution_count": 11,
     "metadata": {},
     "output_type": "execute_result"
    }
   ],
   "source": [
    "def get_frequencies(sample_wav_folder):\n",
    "    '''\n",
    "    extract list of dominant frequencies in sliding windows of duration defined by 'step' for each of the 10 wav files and return an array\n",
    "    frequencies_lol: list of lists\n",
    "    every item in this list will contain 10 lists corresponding to each of the 10 wav files in every sample\n",
    "    and the lists within the list will contain a range of *filtered* frequencies corresponding to sliding windows within each wav file\n",
    "    '''\n",
    "    frequencies_lol = [] \n",
    "    for wav_file in os.listdir(sample_wav_folder):\n",
    "        rate, data = wavfile.read(wav_file)\n",
    "        print(rate)\n",
    "        print(data)\n",
    "    #get dominating frequencies in sliding windows of 200ms\n",
    "        step = rate//5 #3200 sampling points every 1/5 sec \n",
    "        window_frequencies = []\n",
    "    #print(step)\n",
    "    for i in range(0,len(data),step):\n",
    "        ft = np.fft.fft(data[i:i+step])\n",
    "            \n",
    "        freqs = np.fft.fftfreq(len(ft)) #fftq tells you the frequencies associated with the coefficients\n",
    "        imax = np.argmax(np.abs(ft))\n",
    "        freq = freqs[imax]\n",
    "        freq_in_hz = abs(freq *rate)\n",
    "        window_frequencies.append(freq_in_hz)\n",
    "        filtered_frequencies = [f for f in window_frequencies if 20<f<300 and not 46<f<66] \n",
    "            # I see noise at 50Hz and 60Hz. See plots below\n",
    "       \n",
    "    frequencies_lol.append(filtered_frequencies)\n",
    "\n",
    "frequencies = [item for sublist in frequencies_lol for item in sublist]\n",
    "    #print(len(frequencies))\n",
    "    #print(frequencies)\n",
    "return frequencies\n",
    "\n",
    "# niterating  over the samples and look into the wav folder  to read the wav files"
   ]
  },
  {
   "cell_type": "code",
   "execution_count": 6,
   "metadata": {},
   "outputs": [],
   "source": [
    "def get_features(frequencies):\n",
    "\n",
    "    print(\"\\nExtracting features \")\n",
    "    nobs, minmax, mean, variance, skew, kurtosis = stats.describe(frequencies)\n",
    "    median    = np.median(frequencies)\n",
    "    mode      = stats.mode(frequencies).mode[0]\n",
    "    std       = np.std(frequencies)\n",
    "    low,peak  = minmax\n",
    "    q75,q25   = np.percentile(frequencies, [75 ,25])\n",
    "    iqr       = q75 - q25\n",
    "    return nobs, mean, skew, kurtosis, median, mode, std, low, peak, q25, q75, iqr"
   ]
  },
  {
   "cell_type": "code",
   "execution_count": 9,
   "metadata": {},
   "outputs": [
    {
     "name": "stdout",
     "output_type": "stream",
     "text": [
      "None\n"
     ]
    },
    {
     "ename": "TypeError",
     "evalue": "object of type 'NoneType' has no len()",
     "output_type": "error",
     "traceback": [
      "\u001b[0;31m---------------------------------------------------------------------------\u001b[0m",
      "\u001b[0;31mTypeError\u001b[0m                                 Traceback (most recent call last)",
      "\u001b[0;32m<ipython-input-9-4605de8b90ae>\u001b[0m in \u001b[0;36m<module>\u001b[0;34m\u001b[0m\n\u001b[1;32m      6\u001b[0m         \u001b[0mfrequencies\u001b[0m \u001b[0;34m=\u001b[0m \u001b[0mget_frequencies\u001b[0m\u001b[0;34m(\u001b[0m\u001b[0msample_wav_folder\u001b[0m\u001b[0;34m)\u001b[0m\u001b[0;34m\u001b[0m\u001b[0;34m\u001b[0m\u001b[0m\n\u001b[1;32m      7\u001b[0m         \u001b[0mprint\u001b[0m\u001b[0;34m(\u001b[0m\u001b[0mfrequencies\u001b[0m\u001b[0;34m)\u001b[0m\u001b[0;34m\u001b[0m\u001b[0;34m\u001b[0m\u001b[0m\n\u001b[0;32m----> 8\u001b[0;31m         \u001b[0;32mif\u001b[0m \u001b[0mlen\u001b[0m\u001b[0;34m(\u001b[0m\u001b[0mfrequencies\u001b[0m\u001b[0;34m)\u001b[0m \u001b[0;34m>\u001b[0m \u001b[0;36m10\u001b[0m\u001b[0;34m:\u001b[0m\u001b[0;34m\u001b[0m\u001b[0;34m\u001b[0m\u001b[0m\n\u001b[0m\u001b[1;32m      9\u001b[0m             \u001b[0mnobs\u001b[0m\u001b[0;34m,\u001b[0m \u001b[0mmean\u001b[0m\u001b[0;34m,\u001b[0m \u001b[0mskew\u001b[0m\u001b[0;34m,\u001b[0m \u001b[0mkurtosis\u001b[0m\u001b[0;34m,\u001b[0m \u001b[0mmedian\u001b[0m\u001b[0;34m,\u001b[0m \u001b[0mmode\u001b[0m\u001b[0;34m,\u001b[0m \u001b[0mstd\u001b[0m\u001b[0;34m,\u001b[0m \u001b[0mlow\u001b[0m\u001b[0;34m,\u001b[0m \u001b[0mpeak\u001b[0m\u001b[0;34m,\u001b[0m \u001b[0mq25\u001b[0m\u001b[0;34m,\u001b[0m \u001b[0mq75\u001b[0m\u001b[0;34m,\u001b[0m \u001b[0miqr\u001b[0m \u001b[0;34m=\u001b[0m \u001b[0mget_features\u001b[0m\u001b[0;34m(\u001b[0m\u001b[0mfrequencies\u001b[0m\u001b[0;34m)\u001b[0m\u001b[0;34m\u001b[0m\u001b[0;34m\u001b[0m\u001b[0m\n\u001b[1;32m     10\u001b[0m \u001b[0;34m\u001b[0m\u001b[0m\n",
      "\u001b[0;31mTypeError\u001b[0m: object of type 'NoneType' has no len()"
     ]
    }
   ],
   "source": [
    "for i in range(n_samples):\n",
    "    sample_folder = os.path.join(raw_folder,'raw')\n",
    "    sample_wav_folder = os.path.join(sample_folder, 'audio')\n",
    "    \n",
    "    if os.path.isdir(sample_wav_folder):\n",
    "        frequencies = get_frequencies(sample_wav_folder)\n",
    "        print(frequencies)\n",
    "        if len(frequencies) > 10: \n",
    "            nobs, mean, skew, kurtosis, median, mode, std, low, peak, q25, q75, iqr = get_features(frequencies)\n",
    "            \n",
    "            sample_dict = {'nobs':nobs, 'mean':mean, 'skew':skew, 'kurtosis':kurtosis,'median':median, 'mode':mode, 'std':std, 'low': low,'peak':peak, 'q25':q25, 'q75':q75, 'iqr':iqr}\n",
    "            print(sample_dict)\n",
    "            myData.loc[i] = pd.Series(sample_dict)\n",
    "        myData.to_csv('voice.csv')"
   ]
  },
  {
   "cell_type": "code",
   "execution_count": 13,
   "metadata": {},
   "outputs": [
    {
     "name": "stdout",
     "output_type": "stream",
     "text": [
      "/home/user/main_project/raw/audio\n"
     ]
    }
   ],
   "source": [
    "print(sample_wav_folder)\n"
   ]
  },
  {
   "cell_type": "code",
   "execution_count": null,
   "metadata": {},
   "outputs": [],
   "source": []
  }
 ],
 "metadata": {
  "kernelspec": {
   "display_name": "Python 3",
   "language": "python",
   "name": "python3"
  },
  "language_info": {
   "codemirror_mode": {
    "name": "ipython",
    "version": 3
   },
   "file_extension": ".py",
   "mimetype": "text/x-python",
   "name": "python",
   "nbconvert_exporter": "python",
   "pygments_lexer": "ipython3",
   "version": "3.7.1"
  }
 },
 "nbformat": 4,
 "nbformat_minor": 2
}
