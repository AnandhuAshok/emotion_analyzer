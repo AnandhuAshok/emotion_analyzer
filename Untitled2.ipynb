{
 "cells": [
  {
   "cell_type": "code",
   "execution_count": 5,
   "metadata": {},
   "outputs": [
    {
     "name": "stdout",
     "output_type": "stream",
     "text": [
      "Recording Audio...\n"
     ]
    },
    {
     "name": "stderr",
     "output_type": "stream",
     "text": [
      "/home/user/main_project/lib/python3.7/site-packages/ipykernel_launcher.py:45: DeprecationWarning: The binary mode of fromstring is deprecated, as it behaves surprisingly on unicode inputs. Use frombuffer instead\n"
     ]
    },
    {
     "ename": "ValueError",
     "evalue": "could not broadcast input array from shape (1024) into shape (0)",
     "output_type": "error",
     "traceback": [
      "\u001b[0;31m---------------------------------------------------------------------------\u001b[0m",
      "\u001b[0;31mValueError\u001b[0m                                Traceback (most recent call last)",
      "\u001b[0;32m<ipython-input-5-63526aca0ab5>\u001b[0m in \u001b[0;36m<module>\u001b[0;34m\u001b[0m\n\u001b[1;32m     48\u001b[0m \u001b[0;34m\u001b[0m\u001b[0m\n\u001b[1;32m     49\u001b[0m         \u001b[0;31m# synthesize audio\u001b[0m\u001b[0;34m\u001b[0m\u001b[0;34m\u001b[0m\u001b[0;34m\u001b[0m\u001b[0m\n\u001b[0;32m---> 50\u001b[0;31m         \u001b[0mbuffer\u001b[0m\u001b[0;34m[\u001b[0m\u001b[0mCHUNK\u001b[0m\u001b[0;34m:\u001b[0m\u001b[0;34m]\u001b[0m \u001b[0;34m=\u001b[0m \u001b[0mnp\u001b[0m\u001b[0;34m.\u001b[0m\u001b[0mrandom\u001b[0m\u001b[0;34m.\u001b[0m\u001b[0mrandn\u001b[0m\u001b[0;34m(\u001b[0m\u001b[0mCHUNK\u001b[0m\u001b[0;34m)\u001b[0m\u001b[0;34m\u001b[0m\u001b[0;34m\u001b[0m\u001b[0m\n\u001b[0m\u001b[1;32m     51\u001b[0m         \u001b[0mfreq_buffer\u001b[0m \u001b[0;34m=\u001b[0m \u001b[0mnp\u001b[0m\u001b[0;34m.\u001b[0m\u001b[0mfft\u001b[0m\u001b[0;34m.\u001b[0m\u001b[0mfft\u001b[0m\u001b[0;34m(\u001b[0m\u001b[0mbuffer\u001b[0m\u001b[0;34m)\u001b[0m\u001b[0;34m\u001b[0m\u001b[0;34m\u001b[0m\u001b[0m\n\u001b[1;32m     52\u001b[0m         \u001b[0mfreq_fir\u001b[0m \u001b[0;34m=\u001b[0m \u001b[0mnp\u001b[0m\u001b[0;34m.\u001b[0m\u001b[0mfft\u001b[0m\u001b[0;34m.\u001b[0m\u001b[0mfft\u001b[0m\u001b[0;34m(\u001b[0m\u001b[0mfir\u001b[0m\u001b[0;34m)\u001b[0m\u001b[0;34m\u001b[0m\u001b[0;34m\u001b[0m\u001b[0m\n",
      "\u001b[0;31mValueError\u001b[0m: could not broadcast input array from shape (1024) into shape (0)"
     ]
    }
   ],
   "source": [
    "import pyaudio\n",
    "import numpy as np\n",
    "import scipy.signal\n",
    "\n",
    "\n",
    "WIDTH = 2\n",
    "DTYPE = np.int16\n",
    "MAX_INT = 32768.0\n",
    "\n",
    "CHUNK = 1024 \n",
    "FORMAT = pyaudio.paInt16 #paInt8\n",
    "CHANNELS = 2 \n",
    "RATE = 44100 #sample rate\n",
    "RECORD_SECONDS = 4\n",
    "\n",
    "j = np.complex(0, 1)\n",
    "\n",
    "p = pyaudio.PyAudio()\n",
    "stream = p.open(format=p.get_format_from_width(WIDTH),\n",
    "                channels=CHANNELS,\n",
    "                rate=RATE,\n",
    "                input=True,\n",
    "                output=True,\n",
    "                frames_per_buffer=CHUNK)\n",
    "\n",
    "print(\"Recording Audio...\")\n",
    "\n",
    "# initialize filter variables\n",
    "fir = np.zeros(CHUNK * 2)\n",
    "fir[:(CHUNK)] = 1.\n",
    "fir /= fir.sum()\n",
    "\n",
    "fir_last = fir\n",
    "avg_freq_buffer = np.zeros(CHUNK)\n",
    "obj = -np.inf\n",
    "t = 10\n",
    "\n",
    "# initialize sample buffer\n",
    "buffer = np.zeros(CHUNK) \n",
    "\n",
    "try:\n",
    "    while True:\n",
    "        # read audio\n",
    "        string_audio_data = stream.read(CHUNK)\n",
    "        audio_data = np.fromstring(string_audio_data, dtype=DTYPE)\n",
    "        normalized_data = audio_data / MAX_INT\n",
    "        freq_data = np.fft.fft(normalized_data)\n",
    "\n",
    "        # synthesize audio\n",
    "        buffer[CHUNK:] = np.random.randn(CHUNK)\n",
    "        freq_buffer = np.fft.fft(buffer)\n",
    "        freq_fir = np.fft.fft(fir)\n",
    "        freq_synth = freq_fir * freq_buffer\n",
    "        synth = np.real(np.fft.ifft(freq_synth))\n",
    "\n",
    "        # adjust fir\n",
    "        # objective is to make abs(freq_synth) as much like long-term average of freq_buffer\n",
    "        MEMORY = 100\n",
    "        avg_freq_buffer = (avg_freq_buffer * MEMORY + np.abs(freq_data)) / (MEMORY + 1)\n",
    "        obj_last = obj\n",
    "\n",
    "        obj = np.real(np.dot(avg_freq_buffer[1:51], np.abs(freq_synth[1:100:2])) / np.dot(freq_synth[1:100:2],\n",
    "                                                                                          np.conj(freq_synth[1:100:2])))\n",
    "        if obj > obj_last:\n",
    "            fir_last = fir\n",
    "        fir = fir_last.copy()\n",
    "\n",
    "        # adjust filter in frequency space\n",
    "        freq_fir = np.fft.fft(fir)\n",
    "        # t += np.clip(np.random.randint(3)-1, 0, 64)\n",
    "        t = np.random.randint(100)\n",
    "\n",
    "        freq_fir[t] += np.random.randn() * .05\n",
    "\n",
    "        # transform frequency space filter to time space, click-free\n",
    "        fir = np.real(np.fft.ifft(freq_fir))\n",
    "        fir[:CHUNK] *= np.linspace(1., 0., CHUNK) ** .1\n",
    "        fir[CHUNK:] = 0\n",
    "\n",
    "        # move chunk to start of buffer\n",
    "        buffer[:CHUNK] = buffer[CHUNK:]\n",
    "\n",
    "        # write audio\n",
    "        audio_data = np.array(np.round_(synth[CHUNK:] * MAX_INT), dtype=DTYPE)\n",
    "        string_audio_data = audio_data.tostring()\n",
    "        stream.write(string_audio_data, CHUNK)\n",
    "finally:\n",
    "    stream.stop_stream()\n",
    "    stream.close()\n",
    "p.terminate()"
   ]
  },
  {
   "cell_type": "code",
   "execution_count": null,
   "metadata": {},
   "outputs": [],
   "source": []
  },
  {
   "cell_type": "code",
   "execution_count": 6,
   "metadata": {},
   "outputs": [
    {
     "ename": "ValueError",
     "evalue": "too many values to unpack (expected 1)",
     "output_type": "error",
     "traceback": [
      "\u001b[0;31m---------------------------------------------------------------------------\u001b[0m",
      "\u001b[0;31mValueError\u001b[0m                                Traceback (most recent call last)",
      "\u001b[0;32m<ipython-input-6-b0e052336604>\u001b[0m in \u001b[0;36m<module>\u001b[0;34m\u001b[0m\n\u001b[1;32m     20\u001b[0m \u001b[0mscale\u001b[0m \u001b[0;34m=\u001b[0m \u001b[0msp\u001b[0m\u001b[0;34m.\u001b[0m\u001b[0mlinspace\u001b[0m\u001b[0;34m(\u001b[0m\u001b[0;36m0\u001b[0m\u001b[0;34m,\u001b[0m \u001b[0mFrequency\u001b[0m\u001b[0;34m,\u001b[0m \u001b[0mlen\u001b[0m\u001b[0;34m(\u001b[0m\u001b[0marray\u001b[0m\u001b[0;34m)\u001b[0m\u001b[0;34m)\u001b[0m\u001b[0;34m\u001b[0m\u001b[0;34m\u001b[0m\u001b[0m\n\u001b[1;32m     21\u001b[0m \u001b[0;34m\u001b[0m\u001b[0m\n\u001b[0;32m---> 22\u001b[0;31m \u001b[0mplt\u001b[0m\u001b[0;34m.\u001b[0m\u001b[0mstem\u001b[0m\u001b[0;34m(\u001b[0m\u001b[0mscale\u001b[0m\u001b[0;34m[\u001b[0m\u001b[0;36m0\u001b[0m\u001b[0;34m:\u001b[0m\u001b[0;36m5000\u001b[0m\u001b[0;34m]\u001b[0m\u001b[0;34m,\u001b[0m \u001b[0mnp\u001b[0m\u001b[0;34m.\u001b[0m\u001b[0mabs\u001b[0m\u001b[0;34m(\u001b[0m\u001b[0mFourierTransformation\u001b[0m\u001b[0;34m[\u001b[0m\u001b[0;36m0\u001b[0m\u001b[0;34m:\u001b[0m\u001b[0;36m5000\u001b[0m\u001b[0;34m]\u001b[0m\u001b[0;34m)\u001b[0m\u001b[0;34m,\u001b[0m \u001b[0;34m'r'\u001b[0m\u001b[0;34m)\u001b[0m\u001b[0;34m\u001b[0m\u001b[0;34m\u001b[0m\u001b[0m\n\u001b[0m\u001b[1;32m     23\u001b[0m \u001b[0mplt\u001b[0m\u001b[0;34m.\u001b[0m\u001b[0mtitle\u001b[0m\u001b[0;34m(\u001b[0m\u001b[0;34m'Signal spectrum after FFT'\u001b[0m\u001b[0;34m)\u001b[0m\u001b[0;34m\u001b[0m\u001b[0;34m\u001b[0m\u001b[0m\n\u001b[1;32m     24\u001b[0m \u001b[0mplt\u001b[0m\u001b[0;34m.\u001b[0m\u001b[0mxlabel\u001b[0m\u001b[0;34m(\u001b[0m\u001b[0;34m'Frequency(Hz)'\u001b[0m\u001b[0;34m)\u001b[0m\u001b[0;34m\u001b[0m\u001b[0;34m\u001b[0m\u001b[0m\n",
      "\u001b[0;32m~/main_project/lib/python3.7/site-packages/matplotlib/pyplot.py\u001b[0m in \u001b[0;36mstem\u001b[0;34m(linefmt, markerfmt, basefmt, bottom, label, data, *args)\u001b[0m\n\u001b[1;32m   2922\u001b[0m         \u001b[0;34m*\u001b[0m\u001b[0margs\u001b[0m\u001b[0;34m,\u001b[0m \u001b[0mlinefmt\u001b[0m\u001b[0;34m=\u001b[0m\u001b[0mlinefmt\u001b[0m\u001b[0;34m,\u001b[0m \u001b[0mmarkerfmt\u001b[0m\u001b[0;34m=\u001b[0m\u001b[0mmarkerfmt\u001b[0m\u001b[0;34m,\u001b[0m \u001b[0mbasefmt\u001b[0m\u001b[0;34m=\u001b[0m\u001b[0mbasefmt\u001b[0m\u001b[0;34m,\u001b[0m\u001b[0;34m\u001b[0m\u001b[0;34m\u001b[0m\u001b[0m\n\u001b[1;32m   2923\u001b[0m         bottom=bottom, label=label, **({\"data\": data} if data is not\n\u001b[0;32m-> 2924\u001b[0;31m         None else {}))\n\u001b[0m\u001b[1;32m   2925\u001b[0m \u001b[0;34m\u001b[0m\u001b[0m\n\u001b[1;32m   2926\u001b[0m \u001b[0;34m\u001b[0m\u001b[0m\n",
      "\u001b[0;32m~/main_project/lib/python3.7/site-packages/matplotlib/__init__.py\u001b[0m in \u001b[0;36minner\u001b[0;34m(ax, data, *args, **kwargs)\u001b[0m\n\u001b[1;32m   1808\u001b[0m                         \u001b[0;34m\"the Matplotlib list!)\"\u001b[0m \u001b[0;34m%\u001b[0m \u001b[0;34m(\u001b[0m\u001b[0mlabel_namer\u001b[0m\u001b[0;34m,\u001b[0m \u001b[0mfunc\u001b[0m\u001b[0;34m.\u001b[0m\u001b[0m__name__\u001b[0m\u001b[0;34m)\u001b[0m\u001b[0;34m,\u001b[0m\u001b[0;34m\u001b[0m\u001b[0;34m\u001b[0m\u001b[0m\n\u001b[1;32m   1809\u001b[0m                         RuntimeWarning, stacklevel=2)\n\u001b[0;32m-> 1810\u001b[0;31m             \u001b[0;32mreturn\u001b[0m \u001b[0mfunc\u001b[0m\u001b[0;34m(\u001b[0m\u001b[0max\u001b[0m\u001b[0;34m,\u001b[0m \u001b[0;34m*\u001b[0m\u001b[0margs\u001b[0m\u001b[0;34m,\u001b[0m \u001b[0;34m**\u001b[0m\u001b[0mkwargs\u001b[0m\u001b[0;34m)\u001b[0m\u001b[0;34m\u001b[0m\u001b[0;34m\u001b[0m\u001b[0m\n\u001b[0m\u001b[1;32m   1811\u001b[0m \u001b[0;34m\u001b[0m\u001b[0m\n\u001b[1;32m   1812\u001b[0m         inner.__doc__ = _add_data_doc(inner.__doc__,\n",
      "\u001b[0;32m~/main_project/lib/python3.7/site-packages/matplotlib/axes/_axes.py\u001b[0m in \u001b[0;36mstem\u001b[0;34m(self, linefmt, markerfmt, basefmt, bottom, label, *args)\u001b[0m\n\u001b[1;32m   2676\u001b[0m \u001b[0;34m\u001b[0m\u001b[0m\n\u001b[1;32m   2677\u001b[0m         markerline, = self.plot(x, y, color=markercolor, linestyle=markerstyle,\n\u001b[0;32m-> 2678\u001b[0;31m                                 marker=markermarker, label=\"_nolegend_\")\n\u001b[0m\u001b[1;32m   2679\u001b[0m \u001b[0;34m\u001b[0m\u001b[0m\n\u001b[1;32m   2680\u001b[0m         \u001b[0mstemlines\u001b[0m \u001b[0;34m=\u001b[0m \u001b[0;34m[\u001b[0m\u001b[0;34m]\u001b[0m\u001b[0;34m\u001b[0m\u001b[0;34m\u001b[0m\u001b[0m\n",
      "\u001b[0;31mValueError\u001b[0m: too many values to unpack (expected 1)"
     ]
    },
    {
     "data": {
      "image/png": "[encoded data removed]",
      "text/plain": [
       "<Figure size 432x288 with 1 Axes>"
      ]
     },
     "metadata": {
      "needs_background": "light"
     },
     "output_type": "display_data"
    }
   ],
   "source": [
    "import numpy as np  \n",
    "import scipy as sp  \n",
    "from scipy.io.wavfile import read  \n",
    "from scipy.io.wavfile import write     \n",
    "from scipy import signal  \n",
    "import matplotlib.pyplot as plt  \n",
    "get_ipython().magic('matplotlib inline')  \n",
    "\n",
    "(Frequency, array) = read('output.wav')  \n",
    "\n",
    "len(array)  \n",
    "\n",
    "plt.plot(array)   \n",
    "plt.title('Original Signal Spectrum')  \n",
    "plt.xlabel('Frequency(Hz)')  \n",
    "plt.ylabel('Amplitude')  \n",
    "\n",
    "FourierTransformation = sp.fft(array)  \n",
    "\n",
    "scale = sp.linspace(0, Frequency, len(array))  \n",
    "\n",
    "plt.stem(scale[0:5000], np.abs(FourierTransformation[0:5000]), 'r')    \n",
    "plt.title('Signal spectrum after FFT')  \n",
    "plt.xlabel('Frequency(Hz)')  \n",
    "plt.ylabel('Amplitude')  \n",
    "\n",
    "\n",
    "GuassianNoise = np.random.rand(len(FourierTransformation))  \n",
    "\n",
    "\n",
    "NewSound = GuassianNoise + array  \n",
    "\n",
    "write(\"New-Sound-Added-With-Guassian-Noise.wav\", Frequency, NewSound)  \n",
    "\n",
    "b,a = signal.butter(5, 1000/(Frequency/2), btype='highpass')  \n",
    "\n",
    "filteredSignal = signal.lfilter(b,a,NewSound)  \n",
    "plt.plot(filteredSignal) # plotting the signal.  \n",
    "plt.title('Highpass Filter')  \n",
    "plt.xlabel('Frequency(Hz)')  \n",
    "plt.ylabel('Amplitude')  \n",
    "\n",
    "\n",
    "c,d = signal.butter(5, 380/(Frequency/2), btype='lowpass') # ButterWorth low-filter  \n",
    "newFilteredSignal = signal.lfilter(c,d,filteredSignal) # Applying the filter to the signal  \n",
    "plt.plot(newFilteredSignal) # plotting the signal.  \n",
    "plt.title('Lowpass Filter')  \n",
    "plt.xlabel('Frequency(Hz)')  \n",
    "plt.ylabel('Amplitude')  \n",
    "\n",
    "write(\"New-Filtered-Sound.wav\", Frequency, newFilteredSignal)  "
   ]
  },
  {
   "cell_type": "code",
   "execution_count": null,
   "metadata": {},
   "outputs": [],
   "source": []
  }
 ],
 "metadata": {
  "kernelspec": {
   "display_name": "Python 3",
   "language": "python",
   "name": "python3"
  },
  "language_info": {
   "codemirror_mode": {
    "name": "ipython",
    "version": 3
   },
   "file_extension": ".py",
   "mimetype": "text/x-python",
   "name": "python",
   "nbconvert_exporter": "python",
   "pygments_lexer": "ipython3",
   "version": "3.7.1"
  }
 },
 "nbformat": 4,
 "nbformat_minor": 2
}
